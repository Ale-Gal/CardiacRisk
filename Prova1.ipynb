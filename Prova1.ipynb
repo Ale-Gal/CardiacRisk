{
 "cells": [
  {
   "cell_type": "code",
   "execution_count": 12,
   "metadata": {},
   "outputs": [],
   "source": [
    "import csv\n",
    "import sys\n",
    "import random \n",
    "import numpy as np\n",
    "import pandas as pd\n",
    "import matplotlib.pyplot as plt\n",
    "import numpy.random as ran\n",
    "\n",
    "#creo istanze e le scrivo-salvo su file csv \n",
    "with open('prova1.csv', mode='w') as csv_file:\n",
    "    \n",
    "    #scrivo prima la riga di intestazione\n",
    "    nomicolonne = ['PzId', 'Age', 'Sex', 'Diabetes', 'Hypercholesterolemia', 'Hypertension', 'Smoking', 'MyocardialInfarction', 'MyocardialRevascularization', 'PTCA', 'CABG', 'Sbp', 'Hr', 'Creatinine', 'Enrolment', 'Killip', 'CCS', 'ST_SegmentDeviation', 'SignsOfHeartFailure', 'Tn_I>0.1', 'CardiacArrestAdmission', 'Aspirin', 'Angina'] \n",
    "    writer = csv.DictWriter(csv_file, fieldnames=nomicolonne)\n",
    "    writer.writeheader()\n",
    "    #aggiungo i dati\n",
    "    for i in range(13):\n",
    "     writer.writerow({'PzId': i, 'Age': int(random.gauss(63.4, 10.8)), 'Sex': random.randrange(0, 1), 'Diabetes': random.randint(0,1), 'Hypercholesterolemia': random.randint(0,1), 'Hypertension': random.randint(0,1), 'Smoking': random.randint(0,1), 'MyocardialInfarction': random.randint(0,1), 'MyocardialRevascularization': random.randint(0,1), 'PTCA': random.randint(0,1), 'CABG': random.randint(0,1), 'Sbp':int(random.gauss(142.4, 26.9)), 'Hr':int(random.gauss(75.3, 18.1)), 'Creatinine':int(random.gauss(1.37, 1.26)), 'Enrolment':random.randint(0,1), 'Killip':random.choice(['class1', 'class2', 'class3', 'class4']), 'CCS':random.randint(0,1), 'ST_SegmentDeviation':random.randint(0,1), 'SignsOfHeartFailure':random.randint(0,1), 'Tn_I>0.1':random.randint(0,1), 'CardiacArrestAdmission':random.randint(0,1), 'Aspirin':random.randint(0,1), 'Angina':random.randint(0,1)})\n",
    "     i+1\n",
    "    #writer.writerow({'PzId': '2', 'Age': int(random.gauss(63.4, 10.8)), 'Sex': random.randrange(0, 1), 'Diabetes': random.randint(0,1), 'Hypercholesterolemia': random.randint(0,1), 'Hypertension': random.randint(0,1), 'Smoking': random.randint(0,1), 'MyocardialInfarction': random.randint(0,1), 'MyocardialRevascularization': random.randint(0,1), 'Sbp':int(random.gauss(142.4, 26.9)), 'Hr':int(random.gauss(75.3, 18.1)), 'Creatinine':int(random.gauss(1.37, 1.26)), 'Enrolment':random.randint(0,1), 'Killip':random.choice(['class1', 'class2', 'class3', 'class4']), 'CCS':random.randint(0,1), 'ST_SegmentDeviation':random.randint(0,1), 'SignsOfHeartFailure':random.randint(0,1), 'Tn_I>0.1':random.randint(0,1), 'CardiacArrestAdmission':random.randint(0,1), 'Aspirin':random.randint(0,1), 'Angina':random.randint(0,1)})\n",
    "    #writer.writerow({'PzId': '3', 'Age': int(random.gauss(63.4, 10.8)), 'Sex': random.randrange(0, 1), 'Diabetes': random.randint(0,1), 'Hypercholesterolemia': random.randint(0,1), 'Hypertension': random.randint(0,1), 'Smoking': random.randint(0,1), 'MyocardialInfarction': random.randint(0,1), 'MyocardialRevascularization': random.randint(0,1), 'Sbp':int(random.gauss(142.4, 26.9)), 'Hr':int(random.gauss(75.3, 18.1)), 'Creatinine':int(random.gauss(1.37, 1.26)), 'Enrolment':random.randint(0,1), 'Killip':random.choice(['class1', 'class2', 'class3', 'class4']), 'CCS':random.randint(0,1), 'ST_SegmentDeviation':random.randint(0,1), 'SignsOfHeartFailure':random.randint(0,1), 'Tn_I>0.1':random.randint(0,1), 'CardiacArrestAdmission':random.randint(0,1), 'Aspirin':random.randint(0,1), 'Angina':random.randint(0,1)})\n",
    "    #writer.writerow({'PzId': '4', 'Age': int(random.gauss(63.4, 10.8)), 'Sex': random.randrange(0, 1), 'Diabetes': random.randint(0,1), 'Hypercholesterolemia': random.randint(0,1), 'Hypertension': random.randint(0,1), 'Smoking': random.randint(0,1), 'MyocardialInfarction': random.randint(0,1), 'MyocardialRevascularization': random.randint(0,1), 'Sbp':int(random.gauss(142.4, 26.9)), 'Hr':int(random.gauss(75.3, 18.1)), 'Creatinine':int(random.gauss(1.37, 1.26)), 'Enrolment':random.randint(0,1), 'Killip':random.choice(['class1', 'class2', 'class3', 'class4']), 'CCS':random.randint(0,1), 'ST_SegmentDeviation':random.randint(0,1), 'SignsOfHeartFailure':random.randint(0,1), 'Tn_I>0.1':random.randint(0,1), 'CardiacArrestAdmission':random.randint(0,1), 'Aspirin':random.randint(0,1), 'Angina':random.randint(0,1)})\n",
    "    #writer.writerow({'PzId': '5', 'Age': int(random.gauss(63.4, 10.8)), 'Sex': random.randrange(0, 1), 'Diabetes': random.randint(0,1), 'Hypercholesterolemia': random.randint(0,1), 'Hypertension': random.randint(0,1), 'Smoking': random.randint(0,1), 'MyocardialInfarction': random.randint(0,1), 'MyocardialRevascularization': random.randint(0,1), 'Sbp':int(random.gauss(142.4, 26.9)), 'Hr':int(random.gauss(75.3, 18.1)), 'Creatinine':int(random.gauss(1.37, 1.26)), 'Enrolment':random.randint(0,1), 'Killip':random.choice(['class1', 'class2', 'class3', 'class4']), 'CCS':random.randint(0,1), 'ST_SegmentDeviation':random.randint(0,1), 'SignsOfHeartFailure':random.randint(0,1), 'Tn_I>0.1':random.randint(0,1), 'CardiacArrestAdmission':random.randint(0,1), 'Aspirin':random.randint(0,1), 'Angina':random.randint(0,1)})\n",
    "    #writer.writerow({'PzId': '6', 'Age': int(random.gauss(63.4, 10.8)), 'Sex': random.randrange(0, 1), 'Diabetes': random.randint(0,1), 'Hypercholesterolemia': random.randint(0,1), 'Hypertension': random.randint(0,1), 'Smoking': random.randint(0,1), 'MyocardialInfarction': random.randint(0,1), 'MyocardialRevascularization': random.randint(0,1), 'Sbp':int(random.gauss(142.4, 26.9)), 'Hr':int(random.gauss(75.3, 18.1)), 'Creatinine':int(random.gauss(1.37, 1.26)), 'Enrolment':random.randint(0,1), 'Killip':random.choice(['class1', 'class2', 'class3', 'class4']), 'CCS':random.randint(0,1), 'ST_SegmentDeviation':random.randint(0,1), 'SignsOfHeartFailure':random.randint(0,1), 'Tn_I>0.1':random.randint(0,1), 'CardiacArrestAdmission':random.randint(0,1), 'Aspirin':random.randint(0,1), 'Angina':random.randint(0,1)})\n",
    "    #writer.writerow({'PzId': '7', 'Age': int(random.gauss(63.4, 10.8)), 'Sex': random.randrange(0, 1), 'Diabetes': random.randint(0,1), 'Hypercholesterolemia': random.randint(0,1), 'Hypertension': random.randint(0,1), 'Smoking': random.randint(0,1), 'MyocardialInfarction': random.randint(0,1), 'MyocardialRevascularization': random.randint(0,1), 'Sbp':int(random.gauss(142.4, 26.9)), 'Hr':int(random.gauss(75.3, 18.1)), 'Creatinine':int(random.gauss(1.37, 1.26)), 'Enrolment':random.randint(0,1), 'Killip':random.choice(['class1', 'class2', 'class3', 'class4']), 'CCS':random.randint(0,1), 'ST_SegmentDeviation':random.randint(0,1), 'SignsOfHeartFailure':random.randint(0,1), 'Tn_I>0.1':random.randint(0,1), 'CardiacArrestAdmission':random.randint(0,1), 'Aspirin':random.randint(0,1), 'Angina':random.randint(0,1)})\n",
    "    #writer.writerow({'PzId': '8', 'Age': int(random.gauss(63.4, 10.8)), 'Sex': random.randrange(0, 1), 'Diabetes': random.randint(0,1), 'Hypercholesterolemia': random.randint(0,1), 'Hypertension': random.randint(0,1), 'Smoking': random.randint(0,1), 'MyocardialInfarction': random.randint(0,1), 'MyocardialRevascularization': random.randint(0,1), 'Sbp':int(random.gauss(142.4, 26.9)), 'Hr':int(random.gauss(75.3, 18.1)), 'Creatinine':int(random.gauss(1.37, 1.26)), 'Enrolment':random.randint(0,1), 'Killip':random.choice(['class1', 'class2', 'class3', 'class4']), 'CCS':random.randint(0,1), 'ST_SegmentDeviation':random.randint(0,1), 'SignsOfHeartFailure':random.randint(0,1), 'Tn_I>0.1':random.randint(0,1), 'CardiacArrestAdmission':random.randint(0,1), 'Aspirin':random.randint(0,1), 'Angina':random.randint(0,1)})\n",
    "    #writer.writerow({'PzId': '9', 'Age': int(random.gauss(63.4, 10.8)), 'Sex': random.randrange(0, 1), 'Diabetes': random.randint(0,1), 'Hypercholesterolemia': random.randint(0,1), 'Hypertension': random.randint(0,1), 'Smoking': random.randint(0,1), 'MyocardialInfarction': random.randint(0,1), 'MyocardialRevascularization': random.randint(0,1), 'Sbp':int(random.gauss(142.4, 26.9)), 'Hr':int(random.gauss(75.3, 18.1)), 'Creatinine':int(random.gauss(1.37, 1.26)), 'Enrolment':random.randint(0,1), 'Killip':random.choice(['class1', 'class2', 'class3', 'class4']), 'CCS':random.randint(0,1), 'ST_SegmentDeviation':random.randint(0,1), 'SignsOfHeartFailure':random.randint(0,1), 'Tn_I>0.1':random.randint(0,1), 'CardiacArrestAdmission':random.randint(0,1), 'Aspirin':random.randint(0,1), 'Angina':random.randint(0,1)})\n",
    "    #writer.writerow({'PzId': '10', 'Age': int(random.gauss(63.4, 10.8)), 'Sex': random.randrange(0, 1), 'Diabetes': random.randint(0,1), 'Hypercholesterolemia': random.randint(0,1), 'Hypertension': random.randint(0,1), 'Smoking': random.randint(0,1), 'MyocardialInfarction': random.randint(0,1), 'MyocardialRevascularization': random.randint(0,1), 'Sbp':int(random.gauss(142.4, 26.9)), 'Hr':int(random.gauss(75.3, 18.1)), 'Creatinine':int(random.gauss(1.37, 1.26)), 'Enrolment':random.randint(0,1), 'Killip':random.choice(['class1', 'class2', 'class3', 'class4']), 'CCS':random.randint(0,1), 'ST_SegmentDeviation':random.randint(0,1), 'SignsOfHeartFailure':random.randint(0,1), 'Tn_I>0.1':random.randint(0,1), 'CardiacArrestAdmission':random.randint(0,1), 'Aspirin':random.randint(0,1), 'Angina':random.randint(0,1)})\n",
    "    #writer.writerow({'PzId': '11', 'Age': int(random.gauss(63.4, 10.8)), 'Sex': random.randrange(0, 1), 'Diabetes': random.randint(0,1), 'Hypercholesterolemia': random.randint(0,1), 'Hypertension': random.randint(0,1), 'Smoking': random.randint(0,1), 'MyocardialInfarction': random.randint(0,1), 'MyocardialRevascularization': random.randint(0,1), 'Sbp':int(random.gauss(142.4, 26.9)), 'Hr':int(random.gauss(75.3, 18.1)), 'Creatinine':int(random.gauss(1.37, 1.26)), 'Enrolment':random.randint(0,1), 'Killip':random.choice(['class1', 'class2', 'class3', 'class4']), 'CCS':random.randint(0,1), 'ST_SegmentDeviation':random.randint(0,1), 'SignsOfHeartFailure':random.randint(0,1), 'Tn_I>0.1':random.randint(0,1), 'CardiacArrestAdmission':random.randint(0,1), 'Aspirin':random.randint(0,1), 'Angina':random.randint(0,1)})\n",
    "    #writer.writerow({'PzId': '12', 'Age': int(random.gauss(63.4, 10.8)), 'Sex': random.randrange(0, 1), 'Diabetes': random.randint(0,1), 'Hypercholesterolemia': random.randint(0,1), 'Hypertension': random.randint(0,1), 'Smoking': random.randint(0,1), 'MyocardialInfarction': random.randint(0,1), 'MyocardialRevascularization': random.randint(0,1), 'Sbp':int(random.gauss(142.4, 26.9)), 'Hr':int(random.gauss(75.3, 18.1)), 'Creatinine':int(random.gauss(1.37, 1.26)), 'Enrolment':random.randint(0,1), 'Killip':random.choice(['class1', 'class2', 'class3', 'class4']), 'CCS':random.randint(0,1), 'ST_SegmentDeviation':random.randint(0,1), 'SignsOfHeartFailure':random.randint(0,1), 'Tn_I>0.1':random.randint(0,1), 'CardiacArrestAdmission':random.randint(0,1), 'Aspirin':random.randint(0,1), 'Angina':random.randint(0,1)})\n",
    "    #writer.writerow({'PzId': '13', 'Age': int(random.gauss(63.4, 10.8)), 'Sex': random.randrange(0, 1), 'Diabetes': random.randint(0,1), 'Hypercholesterolemia': random.randint(0,1), 'Hypertension': random.randint(0,1), 'Smoking': random.randint(0,1), 'MyocardialInfarction': random.randint(0,1), 'MyocardialRevascularization': random.randint(0,1), 'Sbp':int(random.gauss(142.4, 26.9)), 'Hr':int(random.gauss(75.3, 18.1)), 'Creatinine':int(random.gauss(1.37, 1.26)), 'Enrolment':random.randint(0,1), 'Killip':random.choice(['class1', 'class2', 'class3', 'class4']), 'CCS':random.randint(0,1), 'ST_SegmentDeviation':random.randint(0,1), 'SignsOfHeartFailure':random.randint(0,1), 'Tn_I>0.1':random.randint(0,1), 'CardiacArrestAdmission':random.randint(0,1), 'Aspirin':random.randint(0,1), 'Angina':random.randint(0,1)})\n",
    "    \n",
    "    "
   ]
  },
  {
   "cell_type": "code",
   "execution_count": null,
   "metadata": {},
   "outputs": [],
   "source": []
  }
 ],
 "metadata": {
  "kernelspec": {
   "display_name": "Python 3",
   "language": "python",
   "name": "python3"
  },
  "language_info": {
   "codemirror_mode": {
    "name": "ipython",
    "version": 3
   },
   "file_extension": ".py",
   "mimetype": "text/x-python",
   "name": "python",
   "nbconvert_exporter": "python",
   "pygments_lexer": "ipython3",
   "version": "3.7.3"
  }
 },
 "nbformat": 4,
 "nbformat_minor": 2
}
