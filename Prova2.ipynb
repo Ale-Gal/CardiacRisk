{
 "cells": [
  {
   "cell_type": "code",
   "execution_count": 3,
   "metadata": {},
   "outputs": [],
   "source": [
    "import csv\n",
    "import sys\n",
    "import random \n",
    "import numpy as np\n",
    "import pandas as pd\n",
    "import matplotlib.pyplot as plt\n",
    "import numpy.random as ran\n",
    "\n",
    "\n",
    "def sex():\n",
    "    x=random.randint(0,1)\n",
    "    if x == 0:  \n",
    "      return 'Male'\n",
    "    else:\n",
    "      return 'Female'\n",
    "\n",
    "def boolean():\n",
    "    y=random.randint(0,1)\n",
    "    if y == 0:  \n",
    "      return 'no'\n",
    "    else:\n",
    "      return 'yes'\n",
    "\n",
    "def enrolment():\n",
    "    z=random.randint(0,1)\n",
    "    if z == 0:  \n",
    "      return 'UA'\n",
    "    else:\n",
    "      return 'MI'\n",
    "\n",
    "def ccs():\n",
    "    k=random.randint(0,1)\n",
    "    if k == 0:  \n",
    "      return 'I/II'\n",
    "    else:\n",
    "      return 'III/IV'\n",
    "\n",
    "#creo istanze e le scrivo-salvo su file csv \n",
    "with open('prova2.csv', mode='w') as csv_file:\n",
    "    \n",
    "    #scrivo prima la riga di intestazione\n",
    "    nomicolonne = ['PzId', 'Age', 'Sex', 'Diabetes', 'Hypercholesterolemia', 'Hypertension', 'Smoking', 'MyocardialInfarction', 'MyocardialRevascularization', 'PTCA', 'CABG', 'Sbp', 'Hr', 'Creatinine', 'Enrolment', 'Killip', 'CCS', 'ST_SegmentDeviation', 'SignsOfHeartFailure', 'Tn_I>0.1', 'CardiacArrestAdmission', 'Aspirin', 'Angina'] \n",
    "    writer = csv.DictWriter(csv_file, fieldnames=nomicolonne)\n",
    "    writer.writeheader()\n",
    "    #aggiungo i dati\n",
    "    for i in range(13): #range(n)\n",
    "     writer.writerow({'PzId': i, 'Age': int(random.gauss(63.4, 10.8)), 'Sex': sex(), 'Diabetes': boolean(), 'Hypercholesterolemia': boolean(), 'Hypertension': boolean(), 'Smoking': boolean(), 'MyocardialInfarction': boolean(), 'MyocardialRevascularization': boolean(), 'PTCA': boolean(), 'CABG': boolean(), 'Sbp':int(random.gauss(142.4, 26.9)), 'Hr':int(random.gauss(75.3, 18.1)), 'Creatinine':int(random.gauss(1.37, 1.26)), 'Enrolment':enrolment(), 'Killip':random.choice(['class1', 'class2', 'class3', 'class4']), 'CCS':ccs(), 'ST_SegmentDeviation':boolean(), 'SignsOfHeartFailure':boolean(), 'Tn_I>0.1':boolean(), 'CardiacArrestAdmission':boolean(), 'Aspirin':boolean(), 'Angina':boolean()})\n",
    "     i+1\n",
    "        "
   ]
  },
  {
   "cell_type": "code",
   "execution_count": null,
   "metadata": {},
   "outputs": [],
   "source": []
  }
 ],
 "metadata": {
  "kernelspec": {
   "display_name": "Python 3",
   "language": "python",
   "name": "python3"
  },
  "language_info": {
   "codemirror_mode": {
    "name": "ipython",
    "version": 3
   },
   "file_extension": ".py",
   "mimetype": "text/x-python",
   "name": "python",
   "nbconvert_exporter": "python",
   "pygments_lexer": "ipython3",
   "version": "3.7.3"
  }
 },
 "nbformat": 4,
 "nbformat_minor": 2
}
