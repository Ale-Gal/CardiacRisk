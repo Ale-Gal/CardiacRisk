{
 "cells": [
  {
   "cell_type": "code",
   "execution_count": 1,
   "metadata": {},
   "outputs": [],
   "source": [
    "import csv\n",
    "import sys\n",
    "import random \n",
    "import numpy as np\n",
    "import pandas as pd\n",
    "import matplotlib.pyplot as plt\n",
    "import numpy.random as ran\n",
    "\n",
    "def sex():\n",
    "    x=random.randint(0,1)\n",
    "    if x == 0:  \n",
    "      return 'Male'\n",
    "    else:\n",
    "      return 'Female'\n",
    "\n",
    "def boolean():\n",
    "    y=random.randint(0,1)\n",
    "    if y == 0:  \n",
    "      return 'no'\n",
    "    else:\n",
    "      return 'yes'\n",
    "\n",
    "def enrolment():\n",
    "    z=random.randint(0,1)\n",
    "    if z == 0:  \n",
    "      return 'UA'\n",
    "    else:\n",
    "      return 'MI'\n",
    "\n",
    "def ccs():\n",
    "    k=random.randint(0,1)\n",
    "    if k == 0:  \n",
    "      return 'I/II'\n",
    "    else:\n",
    "      return 'III/IV'\n",
    "\n",
    "#creo istanze e le scrivo-salvo su file csv \n",
    "with open('prova2.csv', mode='w') as csv_file:\n",
    "    \n",
    "    #scrivo prima la riga di intestazione\n",
    "    nomicolonne = ['PzId', 'Age', 'SEX', 'Diabetes', 'Hypercholest', 'Hyperten', 'Smoking', 'MI', 'MR', 'PTCA', 'CABG', 'SBP', 'HR', 'Creat', 'Enrl', 'KILLIP', 'CCS>II', 'ST SegmDev', 'HF (signs)', 'TN', 'CAA', 'Aspirin', 'Angina']   \n",
    "    writer = csv.DictWriter(csv_file, fieldnames=nomicolonne)\n",
    "    writer.writeheader()\n",
    "    #aggiungo i dati\n",
    "    for i in range(13): #range(n)\n",
    "     writer.writerow({'PzId': i, 'Age': int(random.gauss(63.4, 10.8)), 'SEX': sex(), 'Diabetes': boolean(), 'Hypercholest': boolean(), 'Hyperten': boolean(), 'Smoking': boolean(), 'MI': boolean(), 'MR': boolean(), 'PTCA': boolean(), 'CABG': boolean(), 'SBP':int(random.gauss(142.4, 26.9)), 'HR':int(random.gauss(75.3, 18.1)), 'Creat':int(random.gauss(1.37, 1.26)), 'Enrl':enrolment(), 'KILLIP':random.choice(['class1', 'class2', 'class3', 'class4']), 'CCS>II':ccs(), 'ST SegmDev':boolean(), 'HF (signs)':boolean(), 'TN':boolean(), 'CAA':boolean(), 'Aspirin':boolean(), 'Angina':boolean()})\n",
    "     i+1"
   ]
  },
  {
   "cell_type": "code",
   "execution_count": 7,
   "metadata": {},
   "outputs": [
    {
     "ename": "TypeError",
     "evalue": "'>=' not supported between instances of 'str' and 'int'",
     "output_type": "error",
     "traceback": [
      "\u001b[1;31m---------------------------------------------------------------------------\u001b[0m",
      "\u001b[1;31mTypeError\u001b[0m                                 Traceback (most recent call last)",
      "\u001b[1;32m<ipython-input-7-7df4e519272f>\u001b[0m in \u001b[0;36m<module>\u001b[1;34m\u001b[0m\n\u001b[0;32m      5\u001b[0m \u001b[0mpatient_data\u001b[0m\u001b[1;33m=\u001b[0m\u001b[1;34m'prova2.csv'\u001b[0m\u001b[1;33m\u001b[0m\u001b[1;33m\u001b[0m\u001b[0m\n\u001b[0;32m      6\u001b[0m \u001b[0mrisk_factors\u001b[0m\u001b[1;33m=\u001b[0m\u001b[1;33m[\u001b[0m\u001b[1;34m\"Age\"\u001b[0m\u001b[1;33m,\u001b[0m \u001b[1;34m\"HR\"\u001b[0m\u001b[1;33m,\u001b[0m \u001b[1;34m\"SBP\"\u001b[0m\u001b[1;33m,\u001b[0m \u001b[1;34m\"KILLIP\"\u001b[0m\u001b[1;33m,\u001b[0m \u001b[1;34m\"CAA\"\u001b[0m\u001b[1;33m,\u001b[0m \u001b[1;34m\"TN\"\u001b[0m\u001b[1;33m,\u001b[0m \u001b[1;34m\"Creat\"\u001b[0m\u001b[1;33m,\u001b[0m \u001b[1;34m\"DEP ST\"\u001b[0m\u001b[1;33m]\u001b[0m \u001b[1;31m#sono gli 8 attrib significtivi usati per la predizione del liv di rischio\u001b[0m\u001b[1;33m\u001b[0m\u001b[1;33m\u001b[0m\u001b[0m\n\u001b[1;32m----> 7\u001b[1;33m \u001b[0mgrace2\u001b[0m\u001b[1;33m.\u001b[0m\u001b[0mgrace\u001b[0m\u001b[1;33m(\u001b[0m\u001b[0mpatient_data\u001b[0m\u001b[1;33m,\u001b[0m \u001b[0mrisk_factors\u001b[0m\u001b[1;33m,\u001b[0m \u001b[0mrisk_threshold\u001b[0m\u001b[1;33m=\u001b[0m\u001b[1;36m145\u001b[0m\u001b[1;33m,\u001b[0m\u001b[0mdebug\u001b[0m\u001b[1;33m=\u001b[0m\u001b[1;32mFalse\u001b[0m\u001b[1;33m)\u001b[0m\u001b[1;33m\u001b[0m\u001b[1;33m\u001b[0m\u001b[0m\n\u001b[0m\u001b[0;32m      8\u001b[0m \u001b[1;33m\u001b[0m\u001b[0m\n\u001b[0;32m      9\u001b[0m \u001b[1;31m#return???cosa mi torna e dove lo salvo????\u001b[0m\u001b[1;33m\u001b[0m\u001b[1;33m\u001b[0m\u001b[1;33m\u001b[0m\u001b[0m\n",
      "\u001b[1;32m~\\Desktop\\JUPITER\\grace2.py\u001b[0m in \u001b[0;36mgrace\u001b[1;34m(patient_data, risk_factors, risk_threshold, debug)\u001b[0m\n\u001b[0;32m     10\u001b[0m          \u001b[1;32mif\u001b[0m \u001b[0mfactor\u001b[0m \u001b[1;33m==\u001b[0m \u001b[1;34m\"Age\"\u001b[0m\u001b[1;33m:\u001b[0m\u001b[1;33m\u001b[0m\u001b[1;33m\u001b[0m\u001b[0m\n\u001b[0;32m     11\u001b[0m             \u001b[0mage\u001b[0m \u001b[1;33m=\u001b[0m \u001b[0mpatient_data\u001b[0m\u001b[1;33m[\u001b[0m\u001b[1;36m1\u001b[0m\u001b[1;33m]\u001b[0m\u001b[1;33m[\u001b[0m\u001b[0mj\u001b[0m\u001b[1;33m]\u001b[0m   \u001b[1;31m# (patient_data['Age'][j]) e non (patient_data[i])\u001b[0m\u001b[1;33m\u001b[0m\u001b[1;33m\u001b[0m\u001b[0m\n\u001b[1;32m---> 12\u001b[1;33m             \u001b[1;32mif\u001b[0m \u001b[0mage\u001b[0m \u001b[1;33m>=\u001b[0m \u001b[1;36m40\u001b[0m \u001b[1;32mand\u001b[0m \u001b[0mage\u001b[0m \u001b[1;33m<=\u001b[0m \u001b[1;36m49\u001b[0m\u001b[1;33m:\u001b[0m\u001b[1;33m\u001b[0m\u001b[1;33m\u001b[0m\u001b[0m\n\u001b[0m\u001b[0;32m     13\u001b[0m                 \u001b[0mrisk\u001b[0m \u001b[1;33m+=\u001b[0m \u001b[1;36m15\u001b[0m\u001b[1;33m\u001b[0m\u001b[1;33m\u001b[0m\u001b[0m\n\u001b[0;32m     14\u001b[0m             \u001b[1;32melif\u001b[0m \u001b[0mage\u001b[0m \u001b[1;33m>=\u001b[0m \u001b[1;36m50\u001b[0m \u001b[1;32mand\u001b[0m \u001b[0mage\u001b[0m \u001b[1;33m<=\u001b[0m \u001b[1;36m59\u001b[0m\u001b[1;33m:\u001b[0m\u001b[1;33m\u001b[0m\u001b[1;33m\u001b[0m\u001b[0m\n",
      "\u001b[1;31mTypeError\u001b[0m: '>=' not supported between instances of 'str' and 'int'"
     ]
    }
   ],
   "source": [
    "import pipeline_online_search as pos\n",
    "import grace2\n",
    "\n",
    "#chiamo funz grace per calcolare classe di rischio di ogni paziente\n",
    "patient_data='prova2.csv'\n",
    "risk_factors=[\"Age\", \"HR\", \"SBP\", \"KILLIP\", \"CAA\", \"TN\", \"Creat\", \"DEP ST\"] #sono gli 8 attrib significtivi usati per la predizione del liv di rischio\n",
    "grace2.grace(patient_data, risk_factors, risk_threshold=145,debug=False)\n",
    "\n",
    "#return???cosa mi torna e dove lo salvo????"
   ]
  },
  {
   "cell_type": "code",
   "execution_count": 8,
   "metadata": {},
   "outputs": [
    {
     "ename": "NameError",
     "evalue": "name 't' is not defined",
     "output_type": "error",
     "traceback": [
      "\u001b[1;31m---------------------------------------------------------------------------\u001b[0m",
      "\u001b[1;31mNameError\u001b[0m                                 Traceback (most recent call last)",
      "\u001b[1;32m<ipython-input-8-39c54d378c2b>\u001b[0m in \u001b[0;36m<module>\u001b[1;34m\u001b[0m\n\u001b[0;32m      5\u001b[0m            \u001b[0mwriter\u001b[0m \u001b[1;33m=\u001b[0m \u001b[0mcsv\u001b[0m\u001b[1;33m.\u001b[0m\u001b[0mDictWriter\u001b[0m\u001b[1;33m(\u001b[0m\u001b[0mcsvoutput\u001b[0m\u001b[1;33m,\u001b[0m \u001b[0mfieldnames\u001b[0m\u001b[1;33m=\u001b[0m\u001b[0mnomecolonna\u001b[0m\u001b[1;33m)\u001b[0m\u001b[1;33m\u001b[0m\u001b[1;33m\u001b[0m\u001b[0m\n\u001b[0;32m      6\u001b[0m            \u001b[0mwriter\u001b[0m\u001b[1;33m.\u001b[0m\u001b[0mwriteheader\u001b[0m\u001b[1;33m(\u001b[0m\u001b[1;33m)\u001b[0m\u001b[1;33m\u001b[0m\u001b[1;33m\u001b[0m\u001b[0m\n\u001b[1;32m----> 7\u001b[1;33m            \u001b[1;32mfor\u001b[0m \u001b[0mk\u001b[0m \u001b[1;32min\u001b[0m \u001b[0mrange\u001b[0m \u001b[1;33m(\u001b[0m\u001b[1;36m0\u001b[0m\u001b[1;33m,\u001b[0m \u001b[0mlen\u001b[0m\u001b[1;33m(\u001b[0m\u001b[0mt\u001b[0m\u001b[1;33m)\u001b[0m\u001b[1;33m)\u001b[0m\u001b[1;33m:\u001b[0m\u001b[1;33m\u001b[0m\u001b[1;33m\u001b[0m\u001b[0m\n\u001b[0m\u001b[0;32m      8\u001b[0m             \u001b[1;32mfor\u001b[0m \u001b[0mrow\u001b[0m \u001b[1;32min\u001b[0m \u001b[0mcsv\u001b[0m\u001b[1;33m.\u001b[0m\u001b[0mreader\u001b[0m\u001b[1;33m(\u001b[0m\u001b[0mcsvinput\u001b[0m\u001b[1;33m)\u001b[0m\u001b[1;33m:\u001b[0m\u001b[1;33m\u001b[0m\u001b[1;33m\u001b[0m\u001b[0m\n\u001b[0;32m      9\u001b[0m              \u001b[0mwriter\u001b[0m\u001b[1;33m.\u001b[0m\u001b[0mwriterow\u001b[0m\u001b[1;33m(\u001b[0m\u001b[0mrow\u001b[0m\u001b[1;33m+\u001b[0m\u001b[0mt\u001b[0m\u001b[1;33m[\u001b[0m\u001b[0mk\u001b[0m\u001b[1;33m]\u001b[0m\u001b[1;33m)\u001b[0m\u001b[1;33m\u001b[0m\u001b[1;33m\u001b[0m\u001b[0m\n",
      "\u001b[1;31mNameError\u001b[0m: name 't' is not defined"
     ]
    }
   ],
   "source": [
    "#aggiungo la classificazione restituita da grace, ossia la colonna rischio, al file csv dei pazienti                 \n",
    "with open('prova2.csv','r') as csvinput:\n",
    "       with open('prova.csv', 'w') as csvoutput:\n",
    "           nomecolonna=['risk']\n",
    "           writer = csv.DictWriter(csvoutput, fieldnames=nomecolonna)\n",
    "           writer.writeheader()\n",
    "           for k in range (0, len(t)):  #suppongo che la funz grace mi restituisca t[] che contiene classe di rischio\n",
    "            for row in csv.reader(csvinput):\n",
    "             writer.writerow(row+t[k])\n",
    "             k+1          "
   ]
  },
  {
   "cell_type": "code",
   "execution_count": null,
   "metadata": {},
   "outputs": [],
   "source": []
  }
 ],
 "metadata": {
  "kernelspec": {
   "display_name": "Python 3",
   "language": "python",
   "name": "python3"
  },
  "language_info": {
   "codemirror_mode": {
    "name": "ipython",
    "version": 3
   },
   "file_extension": ".py",
   "mimetype": "text/x-python",
   "name": "python",
   "nbconvert_exporter": "python",
   "pygments_lexer": "ipython3",
   "version": "3.7.3"
  }
 },
 "nbformat": 4,
 "nbformat_minor": 2
}
